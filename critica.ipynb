{
 "cells": [
  {
   "attachments": {},
   "cell_type": "markdown",
   "metadata": {},
   "source": [
    "Para conocer mejor la distribución gaussiana, vamos a dejar a un lado las notas obtenidas en el examen y vamos a concentrarnos en las críticas de películas.  \n",
    "  \n",
    "Estas son las opiniones (calificadas de 0 a 5) obtenidas por una película, donde 5 es la mejor nota que puede obtener la película: las famosas 5 estrellas que podemos encontrar en todos los sitios de críticas de cine.  \n",
    "  \n",
    "Opinión (Xi), Cantidad de votantes (Ni)  \n",
    "5, 40  \n",
    "4, 99  \n",
    "3, 145  \n",
    "2, 133  \n",
    "1, 96  \n",
    "0, 40   "
   ]
  },
  {
   "cell_type": "code",
   "execution_count": 12,
   "metadata": {},
   "outputs": [
    {
     "name": "stdout",
     "output_type": "stream",
     "text": [
      "Done\n"
     ]
    }
   ],
   "source": [
    "import pandas as pd\n",
    "import numpy as np\n",
    "from math import floor, ceil\n",
    "print('Done')"
   ]
  },
  {
   "cell_type": "code",
   "execution_count": 2,
   "metadata": {},
   "outputs": [
    {
     "data": {
      "text/html": [
       "<div>\n",
       "<style scoped>\n",
       "    .dataframe tbody tr th:only-of-type {\n",
       "        vertical-align: middle;\n",
       "    }\n",
       "\n",
       "    .dataframe tbody tr th {\n",
       "        vertical-align: top;\n",
       "    }\n",
       "\n",
       "    .dataframe thead th {\n",
       "        text-align: right;\n",
       "    }\n",
       "</style>\n",
       "<table border=\"1\" class=\"dataframe\">\n",
       "  <thead>\n",
       "    <tr style=\"text-align: right;\">\n",
       "      <th></th>\n",
       "      <th>Xi</th>\n",
       "      <th>Ni</th>\n",
       "    </tr>\n",
       "  </thead>\n",
       "  <tbody>\n",
       "    <tr>\n",
       "      <th>0</th>\n",
       "      <td>5</td>\n",
       "      <td>40</td>\n",
       "    </tr>\n",
       "    <tr>\n",
       "      <th>1</th>\n",
       "      <td>4</td>\n",
       "      <td>99</td>\n",
       "    </tr>\n",
       "    <tr>\n",
       "      <th>2</th>\n",
       "      <td>3</td>\n",
       "      <td>145</td>\n",
       "    </tr>\n",
       "    <tr>\n",
       "      <th>3</th>\n",
       "      <td>2</td>\n",
       "      <td>133</td>\n",
       "    </tr>\n",
       "    <tr>\n",
       "      <th>4</th>\n",
       "      <td>1</td>\n",
       "      <td>96</td>\n",
       "    </tr>\n",
       "    <tr>\n",
       "      <th>5</th>\n",
       "      <td>0</td>\n",
       "      <td>40</td>\n",
       "    </tr>\n",
       "  </tbody>\n",
       "</table>\n",
       "</div>"
      ],
      "text/plain": [
       "   Xi   Ni\n",
       "0   5   40\n",
       "1   4   99\n",
       "2   3  145\n",
       "3   2  133\n",
       "4   1   96\n",
       "5   0   40"
      ]
     },
     "execution_count": 2,
     "metadata": {},
     "output_type": "execute_result"
    }
   ],
   "source": [
    "#pasamos los datos a un dataframe\n",
    "df_criticas = pd.DataFrame(columns=['Xi', 'Ni'])\n",
    "df_criticas['Xi'] = [5,4,3,2,1,0]\n",
    "df_criticas['Ni'] = [40,99,145,133,96,40]\n",
    "\n",
    "# lo guardamos en un csv\n",
    "df_criticas.to_csv('data/criticas.csv', index=False)\n",
    "\n",
    "# y lo mostramos\n",
    "df_criticas"
   ]
  },
  {
   "attachments": {},
   "cell_type": "markdown",
   "metadata": {},
   "source": [
    "# Media"
   ]
  },
  {
   "cell_type": "code",
   "execution_count": 3,
   "metadata": {},
   "outputs": [
    {
     "data": {
      "text/html": [
       "<div>\n",
       "<style scoped>\n",
       "    .dataframe tbody tr th:only-of-type {\n",
       "        vertical-align: middle;\n",
       "    }\n",
       "\n",
       "    .dataframe tbody tr th {\n",
       "        vertical-align: top;\n",
       "    }\n",
       "\n",
       "    .dataframe thead th {\n",
       "        text-align: right;\n",
       "    }\n",
       "</style>\n",
       "<table border=\"1\" class=\"dataframe\">\n",
       "  <thead>\n",
       "    <tr style=\"text-align: right;\">\n",
       "      <th></th>\n",
       "      <th>Xi</th>\n",
       "      <th>Ni</th>\n",
       "      <th>Xi*Ni</th>\n",
       "    </tr>\n",
       "  </thead>\n",
       "  <tbody>\n",
       "    <tr>\n",
       "      <th>0</th>\n",
       "      <td>5</td>\n",
       "      <td>40</td>\n",
       "      <td>200</td>\n",
       "    </tr>\n",
       "    <tr>\n",
       "      <th>1</th>\n",
       "      <td>4</td>\n",
       "      <td>99</td>\n",
       "      <td>396</td>\n",
       "    </tr>\n",
       "    <tr>\n",
       "      <th>2</th>\n",
       "      <td>3</td>\n",
       "      <td>145</td>\n",
       "      <td>435</td>\n",
       "    </tr>\n",
       "    <tr>\n",
       "      <th>3</th>\n",
       "      <td>2</td>\n",
       "      <td>133</td>\n",
       "      <td>266</td>\n",
       "    </tr>\n",
       "    <tr>\n",
       "      <th>4</th>\n",
       "      <td>1</td>\n",
       "      <td>96</td>\n",
       "      <td>96</td>\n",
       "    </tr>\n",
       "    <tr>\n",
       "      <th>5</th>\n",
       "      <td>0</td>\n",
       "      <td>40</td>\n",
       "      <td>0</td>\n",
       "    </tr>\n",
       "  </tbody>\n",
       "</table>\n",
       "</div>"
      ],
      "text/plain": [
       "   Xi   Ni  Xi*Ni\n",
       "0   5   40    200\n",
       "1   4   99    396\n",
       "2   3  145    435\n",
       "3   2  133    266\n",
       "4   1   96     96\n",
       "5   0   40      0"
      ]
     },
     "execution_count": 3,
     "metadata": {},
     "output_type": "execute_result"
    }
   ],
   "source": [
    "df_criticas['Xi*Ni'] = df_criticas['Xi'] * df_criticas['Ni']\n",
    "df_criticas"
   ]
  },
  {
   "cell_type": "code",
   "execution_count": 7,
   "metadata": {},
   "outputs": [
    {
     "name": "stdout",
     "output_type": "stream",
     "text": [
      "La media es 2.52\n"
     ]
    }
   ],
   "source": [
    "suma_frecuencias = df_criticas['Ni'].sum()\n",
    "suma_productos = df_criticas['Xi*Ni'].sum()\n",
    "\n",
    "media = round( suma_productos / suma_frecuencias, 2)\n",
    "print(f'La media es {media}')"
   ]
  },
  {
   "attachments": {},
   "cell_type": "markdown",
   "metadata": {},
   "source": [
    "# Varianza\n",
    "Esto nos permite calcular la varianza haciendo la suma de la columna que acabamos de crear dividida entre la suma de las frecuencias:\n",
    "\n",
    "Varianza = (246,21 + 217,14 + 33,54 + 35,82 + 221,50 + 253,81)/553 = 1,82\n",
    "\n",
    "Por último, podemos terminar con la desviación típica calculando la raíz cuadrada de la varianza:"
   ]
  },
  {
   "cell_type": "code",
   "execution_count": 5,
   "metadata": {},
   "outputs": [
    {
     "data": {
      "text/html": [
       "<div>\n",
       "<style scoped>\n",
       "    .dataframe tbody tr th:only-of-type {\n",
       "        vertical-align: middle;\n",
       "    }\n",
       "\n",
       "    .dataframe tbody tr th {\n",
       "        vertical-align: top;\n",
       "    }\n",
       "\n",
       "    .dataframe thead th {\n",
       "        text-align: right;\n",
       "    }\n",
       "</style>\n",
       "<table border=\"1\" class=\"dataframe\">\n",
       "  <thead>\n",
       "    <tr style=\"text-align: right;\">\n",
       "      <th></th>\n",
       "      <th>Xi</th>\n",
       "      <th>Ni</th>\n",
       "      <th>Xi*Ni</th>\n",
       "      <th>Ni*(Xi-media)^2</th>\n",
       "    </tr>\n",
       "  </thead>\n",
       "  <tbody>\n",
       "    <tr>\n",
       "      <th>0</th>\n",
       "      <td>5</td>\n",
       "      <td>40</td>\n",
       "      <td>200</td>\n",
       "      <td>246.22</td>\n",
       "    </tr>\n",
       "    <tr>\n",
       "      <th>1</th>\n",
       "      <td>4</td>\n",
       "      <td>99</td>\n",
       "      <td>396</td>\n",
       "      <td>217.15</td>\n",
       "    </tr>\n",
       "    <tr>\n",
       "      <th>2</th>\n",
       "      <td>3</td>\n",
       "      <td>145</td>\n",
       "      <td>435</td>\n",
       "      <td>33.55</td>\n",
       "    </tr>\n",
       "    <tr>\n",
       "      <th>3</th>\n",
       "      <td>2</td>\n",
       "      <td>133</td>\n",
       "      <td>266</td>\n",
       "      <td>35.82</td>\n",
       "    </tr>\n",
       "    <tr>\n",
       "      <th>4</th>\n",
       "      <td>1</td>\n",
       "      <td>96</td>\n",
       "      <td>96</td>\n",
       "      <td>221.50</td>\n",
       "    </tr>\n",
       "    <tr>\n",
       "      <th>5</th>\n",
       "      <td>0</td>\n",
       "      <td>40</td>\n",
       "      <td>0</td>\n",
       "      <td>253.81</td>\n",
       "    </tr>\n",
       "  </tbody>\n",
       "</table>\n",
       "</div>"
      ],
      "text/plain": [
       "   Xi   Ni  Xi*Ni  Ni*(Xi-media)^2\n",
       "0   5   40    200           246.22\n",
       "1   4   99    396           217.15\n",
       "2   3  145    435            33.55\n",
       "3   2  133    266            35.82\n",
       "4   1   96     96           221.50\n",
       "5   0   40      0           253.81"
      ]
     },
     "execution_count": 5,
     "metadata": {},
     "output_type": "execute_result"
    }
   ],
   "source": [
    "df_criticas['Ni*(Xi-media)^2'] = round( df_criticas['Ni'] * (df_criticas['Xi'] - media)**2, 2)\n",
    "df_criticas"
   ]
  },
  {
   "cell_type": "code",
   "execution_count": 8,
   "metadata": {},
   "outputs": [
    {
     "name": "stdout",
     "output_type": "stream",
     "text": [
      "La varianza es 1.82\n",
      "La desviación típica es 1.35\n"
     ]
    }
   ],
   "source": [
    "suma_prod2 = df_criticas['Ni*(Xi-media)^2'].sum()\n",
    "\n",
    "varianza = round( suma_prod2 / suma_frecuencias, 2)\n",
    "print(f'La varianza es {varianza}')\n",
    "\n",
    "desv_tipica = round( np.sqrt(varianza), 2)\n",
    "print(f'La desviación típica es {desv_tipica}')"
   ]
  },
  {
   "attachments": {},
   "cell_type": "markdown",
   "metadata": {},
   "source": [
    "# Percentiles\n",
    "Ahora le toca a usted examinar el reparto de las observaciones en función de las desviaciones entre la media y la desviación típica que permite definir los 68 %, 95 % y 97 % de repartos."
   ]
  },
  {
   "cell_type": "code",
   "execution_count": 42,
   "metadata": {},
   "outputs": [
    {
     "name": "stdout",
     "output_type": "stream",
     "text": [
      "Porcentaje de los datos se encuentran entre [1,3]: 68.0%\n"
     ]
    }
   ],
   "source": [
    "frecs1 = df_criticas['Ni'][2:5].sum() \n",
    "porc1 = round( frecs1/suma_frecuencias, 2)\n",
    "print(f'Porcentaje de los datos se encuentran entre [1,3]: {porc1*100}%')"
   ]
  },
  {
   "cell_type": "code",
   "execution_count": 46,
   "metadata": {},
   "outputs": [
    {
     "name": "stdout",
     "output_type": "stream",
     "text": [
      "Porcentaje de los datos se encuentran entre [0,3]: 75.0%\n"
     ]
    }
   ],
   "source": [
    "frecs2 = df_criticas['Ni'][2:6].sum() \n",
    "porc2 = round( frecs2/suma_frecuencias, 2)\n",
    "print(f'Porcentaje de los datos se encuentran entre [0,3]: {porc2*100}%')"
   ]
  },
  {
   "cell_type": "code",
   "execution_count": 47,
   "metadata": {},
   "outputs": [
    {
     "name": "stdout",
     "output_type": "stream",
     "text": [
      "Porcentaje de los datos se encuentran entre [1,4]: 86.0%\n"
     ]
    }
   ],
   "source": [
    "frecs1 = df_criticas['Ni'][1:5].sum() # 374\n",
    "porc1 = round( frecs1/suma_frecuencias, 2)\n",
    "print(f'Porcentaje de los datos se encuentran entre [1,4]: {porc1*100}%')"
   ]
  },
  {
   "attachments": {},
   "cell_type": "markdown",
   "metadata": {},
   "source": [
    "## 68 %"
   ]
  },
  {
   "attachments": {},
   "cell_type": "markdown",
   "metadata": {},
   "source": [
    "Pero al aplicar la fórmula que usa la media y la desviación típica, nos sale que el intervalo va hasta el 4 porque nos calcula el intervalo de los datos en el que se encuentran el 68,3% de las observaciones."
   ]
  },
  {
   "cell_type": "code",
   "execution_count": 20,
   "metadata": {},
   "outputs": [
    {
     "name": "stdout",
     "output_type": "stream",
     "text": [
      "El intervalo de confianza es [1, 4]\n"
     ]
    }
   ],
   "source": [
    "LI_1 = max( floor(media - desv_tipica), 0)\n",
    "LS_1 = min( ceil(media + desv_tipica), 5)\n",
    "print(f'El 68% de los datos se encuentran en el intervalo [{LI_1}, {LS_1}]')\n"
   ]
  },
  {
   "attachments": {},
   "cell_type": "markdown",
   "metadata": {},
   "source": [
    "## 95 % "
   ]
  },
  {
   "cell_type": "code",
   "execution_count": null,
   "metadata": {},
   "outputs": [],
   "source": [
    "# % de valores entre 1 y 4: 145 + 133 + 96 = 374\n",
    "frecs = df_criticas['Ni'][2:5].sum() # 374\n",
    "porcentaje = round( frecs/suma_frecuencias, 2)\n",
    "print(f'El {porcentaje*100}% de los datos se encuentran entre 1 y 3')"
   ]
  },
  {
   "cell_type": "code",
   "execution_count": 18,
   "metadata": {},
   "outputs": [
    {
     "name": "stdout",
     "output_type": "stream",
     "text": [
      "El intervalo de confianza es [0, 5]\n"
     ]
    }
   ],
   "source": [
    "LI_2 = max( floor(media - 2*desv_tipica), 0)\n",
    "LS_2 = min( ceil(media + 2*desv_tipica), 5)\n",
    "print(f'El 95% de los datos se encuentran en el intervalo [{LI_2}, {LS_2}]')\n"
   ]
  },
  {
   "attachments": {},
   "cell_type": "markdown",
   "metadata": {},
   "source": [
    "## 97 %"
   ]
  },
  {
   "cell_type": "code",
   "execution_count": null,
   "metadata": {},
   "outputs": [],
   "source": [
    "# % de valores entre 1 y 3: 145 + 133 + 96 = 374\n",
    "frecs = df_criticas['Ni'][2:5].sum() # 374\n",
    "porcentaje = round( frecs/suma_frecuencias, 2)\n",
    "print(f'El {porcentaje*100}% de los datos se encuentran entre 1 y 3')"
   ]
  },
  {
   "cell_type": "code",
   "execution_count": 19,
   "metadata": {},
   "outputs": [
    {
     "name": "stdout",
     "output_type": "stream",
     "text": [
      "El intervalo de confianza es [0, 5]\n"
     ]
    }
   ],
   "source": [
    "LI_3 = max( floor(media - 3*desv_tipica), 0)\n",
    "LS_3 = min( ceil(media + 3*desv_tipica), 5)\n",
    "print(f'El 97% de los datos se encuentran en el intervalo [{LI_3}, {LS_3}]')\n"
   ]
  },
  {
   "attachments": {},
   "cell_type": "markdown",
   "metadata": {},
   "source": [
    "# Histograma"
   ]
  },
  {
   "cell_type": "code",
   "execution_count": 27,
   "metadata": {},
   "outputs": [],
   "source": [
    "import matplotlib.pyplot as plt"
   ]
  },
  {
   "cell_type": "code",
   "execution_count": 33,
   "metadata": {},
   "outputs": [
    {
     "data": {
      "image/png": "[encoded data removed]",
      "text/plain": [
       "<Figure size 640x480 with 1 Axes>"
      ]
     },
     "metadata": {},
     "output_type": "display_data"
    }
   ],
   "source": [
    "opiniones = df_criticas['Xi']\n",
    "criticas = df_criticas['Ni']\n",
    "\n",
    "# Histograma\n",
    "plt.bar(opiniones, criticas, )\n",
    "\n",
    "\n",
    "plt.title(\"Histograma de Críticas de Películas\")\n",
    "plt.xlabel(\"Opinión\")\n",
    "plt.ylabel(\"Número de críticas\")\n",
    "\n",
    "plt.show()"
   ]
  }
 ],
 "metadata": {
  "kernelspec": {
   "display_name": "env-eda1",
   "language": "python",
   "name": "python3"
  },
  "language_info": {
   "codemirror_mode": {
    "name": "ipython",
    "version": 3
   },
   "file_extension": ".py",
   "mimetype": "text/x-python",
   "name": "python",
   "nbconvert_exporter": "python",
   "pygments_lexer": "ipython3",
   "version": "3.11.3"
  },
  "orig_nbformat": 4
 },
 "nbformat": 4,
 "nbformat_minor": 2
}
